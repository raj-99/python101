{
  "nbformat": 4,
  "nbformat_minor": 0,
  "metadata": {
    "colab": {
      "provenance": [],
      "authorship_tag": "ABX9TyMZmzc9DTYG3s+tTgFB9srh",
      "include_colab_link": true
    },
    "kernelspec": {
      "name": "python3",
      "display_name": "Python 3"
    },
    "language_info": {
      "name": "python"
    }
  },
  "cells": [
    {
      "cell_type": "markdown",
      "metadata": {
        "id": "view-in-github",
        "colab_type": "text"
      },
      "source": [
        "<a href=\"https://colab.research.google.com/github/raj-99/python101/blob/main/Strings_2.ipynb\" target=\"_parent\"><img src=\"https://colab.research.google.com/assets/colab-badge.svg\" alt=\"Open In Colab\"/></a>"
      ]
    },
    {
      "cell_type": "code",
      "execution_count": null,
      "metadata": {
        "colab": {
          "base_uri": "https://localhost:8080/"
        },
        "id": "0MZLUCGF004T",
        "outputId": "b866838b-2b29-4a2d-95d5-04969455ed2c"
      },
      "outputs": [
        {
          "output_type": "stream",
          "name": "stdout",
          "text": [
            "2\n"
          ]
        }
      ],
      "source": [
        "# Given a string, the task is to count the number of uppercase\n",
        "# letters in the string.\n",
        "s = 'Aarnav Jindal'\n",
        "#ans = 2\n",
        "count = 0\n",
        "ls = list(s)\n",
        "for char in ls:\n",
        "  if char.isupper():\n",
        "    count = count+1\n",
        "print(count)"
      ]
    },
    {
      "cell_type": "markdown",
      "source": [
        "Check Special Characters"
      ],
      "metadata": {
        "id": "C8XxP4rA7vZJ"
      }
    },
    {
      "cell_type": "code",
      "source": [
        "# Special Character -> Character which is not an alphabet, a number or a space\n",
        "\n",
        "# a -> False\n",
        "# 1 -> False\n",
        "# \\n -> False\n",
        "# $ -> True\n",
        "\n",
        "def isspecial(c) :\n",
        "  if c.isalnum():\n",
        "    return False\n",
        "  elif c.isspace():\n",
        "    return False\n",
        "  else:\n",
        "    return True\n",
        "\n",
        "isspecial('$')"
      ],
      "metadata": {
        "colab": {
          "base_uri": "https://localhost:8080/"
        },
        "id": "JaLxw-Wt73w-",
        "outputId": "65a34664-33f2-46cc-da62-71326d3b98ce"
      },
      "execution_count": null,
      "outputs": [
        {
          "output_type": "execute_result",
          "data": {
            "text/plain": [
              "True"
            ]
          },
          "metadata": {},
          "execution_count": 6
        }
      ]
    },
    {
      "cell_type": "markdown",
      "source": [
        "Check for Integer"
      ],
      "metadata": {
        "id": "zXo7HIZt9i6C"
      }
    },
    {
      "cell_type": "code",
      "source": [
        "# Given a string as input, check whether it is an integer or not\n",
        "\n",
        "# 123 -> True\n",
        "# -23 -> True\n",
        "# Aarnav -> False\n",
        "# 1.23 -> False\n",
        "\n",
        "def isInt(c):\n",
        "  if len(c)>0:\n",
        "    if c.isdigit():\n",
        "      return True\n",
        "    elif c[0] == '-':\n",
        "      ls = c.split('-')\n",
        "      if ls[1].isdigit():\n",
        "        return True\n",
        "    else:\n",
        "      return False\n",
        "  return False\n",
        "\n",
        "isInt('')"
      ],
      "metadata": {
        "colab": {
          "base_uri": "https://localhost:8080/"
        },
        "id": "vuzLE8fl9kWI",
        "outputId": "901b22c5-c45c-49bd-b533-815dacac4911"
      },
      "execution_count": null,
      "outputs": [
        {
          "output_type": "execute_result",
          "data": {
            "text/plain": [
              "False"
            ]
          },
          "metadata": {},
          "execution_count": 14
        }
      ]
    },
    {
      "cell_type": "markdown",
      "source": [
        "\n",
        "\n",
        "String Comparison\n",
        "\n",
        "Dictionary Order / Lexicographic Order\n",
        "\n",
        "Start checking character by character from the beginning\n",
        "\n",
        "    Uppercase < Lowercase [ A < a ]\n",
        "\n",
        "    Letter first in alphabets < Letter later in alphabets [ a < b ]\n",
        "\n",
        "    nothing < any character [ '' < a ]\n",
        "\n"
      ],
      "metadata": {
        "id": "N1KUBOzpEX0X"
      }
    },
    {
      "cell_type": "markdown",
      "source": [
        "Password Strength"
      ],
      "metadata": {
        "id": "FNkRCRWOEsUs"
      }
    },
    {
      "cell_type": "code",
      "source": [
        "# Given a password as input, categorise its strength\n",
        "\n",
        "# Strong - 1 lowercase, 1 uppercase, 1 number, 1 special character and length >= 8\n",
        "# Moderate - 1 lowercase, 1 uppercase, and 1 number and length >= 8\n",
        "# Weak - Any case not covered by the above\n",
        "\n",
        "def passwordStrength(password):\n",
        "  lowercase = False\n",
        "  uppercase = False\n",
        "  number = False\n",
        "  specialChar = False\n",
        "  length = len(password)\n",
        "\n",
        "  for char in password:\n",
        "    if char.islower():\n",
        "      lowercase = True\n",
        "      continue\n",
        "    elif char.isupper():\n",
        "      uppercase = True\n",
        "      continue\n",
        "    elif char.isdigit():\n",
        "      number = True\n",
        "      continue\n",
        "    elif not(char.isspace()):\n",
        "      specialChar = True\n",
        "      continue\n",
        "\n",
        "  if(lowercase and uppercase and number and specialChar and length>=8):\n",
        "    return 'Strong'\n",
        "  elif(lowercase and uppercase and number and length >=8):\n",
        "    return 'Moderate'\n",
        "  else:\n",
        "    return 'Weak'\n",
        "\n",
        "print(passwordStrength('Scaler'))"
      ],
      "metadata": {
        "colab": {
          "base_uri": "https://localhost:8080/"
        },
        "id": "X4aErqcOEZXx",
        "outputId": "d1933114-31ee-4af4-c264-94457d790ebc"
      },
      "execution_count": null,
      "outputs": [
        {
          "output_type": "stream",
          "name": "stdout",
          "text": [
            "Weak\n"
          ]
        }
      ]
    },
    {
      "cell_type": "code",
      "source": [
        "# Given a date in format DD/MM/YY as input\n",
        "# Convert it to YY/MM/DD\n",
        "\n",
        "# 01/12/97 > 97/12/01\n",
        "\n",
        "def transformDate(dateStr):\n",
        "  ls = dateStr.split('/')\n",
        "  #return ls[-1] + '/' + ls[-2] + '/' + ls[-3]\n",
        "  return '/'.join(ls[::-1])\n",
        "\n",
        "transformDate('01/12/97')"
      ],
      "metadata": {
        "colab": {
          "base_uri": "https://localhost:8080/",
          "height": 35
        },
        "id": "NFCeGYWkIQUJ",
        "outputId": "e6cfb1b9-3d41-461b-ff45-825f8e38daa8"
      },
      "execution_count": null,
      "outputs": [
        {
          "output_type": "execute_result",
          "data": {
            "text/plain": [
              "'97/12/01'"
            ],
            "application/vnd.google.colaboratory.intrinsic+json": {
              "type": "string"
            }
          },
          "metadata": {},
          "execution_count": 34
        }
      ]
    }
  ]
}