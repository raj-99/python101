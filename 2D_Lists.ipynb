{
  "nbformat": 4,
  "nbformat_minor": 0,
  "metadata": {
    "colab": {
      "provenance": [],
      "authorship_tag": "ABX9TyPlPRJ5VFUB+zgX34PczTY+",
      "include_colab_link": true
    },
    "kernelspec": {
      "name": "python3",
      "display_name": "Python 3"
    },
    "language_info": {
      "name": "python"
    }
  },
  "cells": [
    {
      "cell_type": "markdown",
      "metadata": {
        "id": "view-in-github",
        "colab_type": "text"
      },
      "source": [
        "<a href=\"https://colab.research.google.com/github/raj-99/python101/blob/main/2D_Lists.ipynb\" target=\"_parent\"><img src=\"https://colab.research.google.com/assets/colab-badge.svg\" alt=\"Open In Colab\"/></a>"
      ]
    },
    {
      "cell_type": "markdown",
      "source": [
        "**MATRIX**"
      ],
      "metadata": {
        "id": "S5dI6dMdyXd8"
      }
    },
    {
      "cell_type": "code",
      "execution_count": null,
      "metadata": {
        "colab": {
          "base_uri": "https://localhost:8080/"
        },
        "id": "6_O4njVQxG83",
        "outputId": "2c311359-ddba-4da6-eba3-c9298bcad701"
      },
      "outputs": [
        {
          "output_type": "stream",
          "name": "stdout",
          "text": [
            "[[0, 1, 2], [3, 4, 5], [6, 7, 8]]\n",
            "[0, 1, 2]\n",
            "0 1 2 "
          ]
        }
      ],
      "source": [
        "mat = [[0,1,2],[3,4,5],[6,7,8]]\n",
        "print(mat)\n",
        "print(mat[0])\n",
        "\n",
        "for val in mat[0]:\n",
        "  print(val,end=' ')"
      ]
    },
    {
      "cell_type": "code",
      "source": [
        "mat = [[0,1,2],[3,4,5],[6,7,8]]\n",
        "n=3\n",
        "m=3\n",
        "\n",
        "for i in range(m):\n",
        "  print (mat[i][0])"
      ],
      "metadata": {
        "colab": {
          "base_uri": "https://localhost:8080/"
        },
        "id": "911LYrip3RdP",
        "outputId": "8c9e0d5a-d2f7-4945-e9c9-f9b1fd3557ca"
      },
      "execution_count": null,
      "outputs": [
        {
          "output_type": "stream",
          "name": "stdout",
          "text": [
            "0\n",
            "3\n",
            "6\n"
          ]
        }
      ]
    },
    {
      "cell_type": "code",
      "source": [
        "mat = [[0,1,2],[3,4,5],[6,7,8]]\n",
        "n=len(mat)\n",
        "m=len(mat[0])\n",
        "\n",
        "for i in range(n):\n",
        "  for j in range(m):\n",
        "    print(mat[i][j], end=' ')\n",
        "  print()"
      ],
      "metadata": {
        "colab": {
          "base_uri": "https://localhost:8080/"
        },
        "id": "_KD6q4p94owT",
        "outputId": "f65bdb77-dccc-4af5-e090-c8c384798805"
      },
      "execution_count": null,
      "outputs": [
        {
          "output_type": "stream",
          "name": "stdout",
          "text": [
            "0 1 2 \n",
            "3 4 5 \n",
            "6 7 8 \n"
          ]
        }
      ]
    },
    {
      "cell_type": "code",
      "source": [
        "mat = [[0,1,2],[3,4,5],[6,7,8]]\n",
        "n=len(mat)\n",
        "m=len(mat[0])\n",
        "\n",
        "for i in range(n):\n",
        "  for j in range(m):\n",
        "    print(mat[j][i], end=' ')\n",
        "  print()"
      ],
      "metadata": {
        "colab": {
          "base_uri": "https://localhost:8080/"
        },
        "id": "1A0afrJD7brH",
        "outputId": "251b121c-2fda-4175-fc0d-0e5d815e941f"
      },
      "execution_count": null,
      "outputs": [
        {
          "output_type": "stream",
          "name": "stdout",
          "text": [
            "0 3 6 \n",
            "1 4 7 \n",
            "2 5 8 \n"
          ]
        }
      ]
    },
    {
      "cell_type": "code",
      "source": [
        "mat = [[0,1,2],[3,4,5],[6,7,8]]\n",
        "n=len(mat)\n",
        "m=len(mat[0])\n",
        "print(m/2)\n",
        "print(int(m/2))\n",
        "print(m//2)\n",
        "\n",
        "for i in range(n):\n",
        "  #for j in range(m):\n",
        "  print(mat[i][m//2], end=' ')\n",
        "  #print()"
      ],
      "metadata": {
        "colab": {
          "base_uri": "https://localhost:8080/"
        },
        "id": "UisFN_fF9RXz",
        "outputId": "abb4564c-0c51-4d3e-99d2-7e561e217be4"
      },
      "execution_count": null,
      "outputs": [
        {
          "output_type": "stream",
          "name": "stdout",
          "text": [
            "1.5\n",
            "1\n",
            "1\n",
            "1 4 7 "
          ]
        }
      ]
    },
    {
      "cell_type": "code",
      "source": [
        "mat = [[0,1,2],[3,4,5],[6,7,8]]\n",
        "n=len(mat)\n",
        "m=len(mat[0])\n",
        "\n",
        "for i in range(n):\n",
        "  #for j in range(m):\n",
        "  print(mat[i][i], end=' ')\n",
        "  #print()"
      ],
      "metadata": {
        "colab": {
          "base_uri": "https://localhost:8080/"
        },
        "id": "wBtmjy4Z-lJ-",
        "outputId": "fd905192-0133-4fb5-a730-156f2ce7ef79"
      },
      "execution_count": null,
      "outputs": [
        {
          "output_type": "stream",
          "name": "stdout",
          "text": [
            "0 4 8 "
          ]
        }
      ]
    },
    {
      "cell_type": "code",
      "source": [
        "mat = [[120, 30, 50, 10], [120, 200, 240, 20], [100, 50, 60, 5]]\n",
        "n=len(mat)\n",
        "m=len(mat[0])\n",
        "sum=0\n",
        "\n",
        "for i in range(n):\n",
        "  for j in range(m):\n",
        "    sum = sum + mat[i][j]\n",
        "\n",
        "print(sum)"
      ],
      "metadata": {
        "colab": {
          "base_uri": "https://localhost:8080/"
        },
        "id": "Fs5NWK6SDL-U",
        "outputId": "eb7be50a-5cdf-43a2-cee2-296d6d9f3322"
      },
      "execution_count": null,
      "outputs": [
        {
          "output_type": "stream",
          "name": "stdout",
          "text": [
            "1005\n"
          ]
        }
      ]
    },
    {
      "cell_type": "code",
      "source": [
        "mat = [[120, 30, 50, 10], [120, 200, 240, 20], [100, 50, 60, 5]]\n",
        "n=len(mat)\n",
        "m=len(mat[0])\n",
        "\n",
        "for row in range(n):\n",
        "  print(max(mat[row]))"
      ],
      "metadata": {
        "colab": {
          "base_uri": "https://localhost:8080/"
        },
        "id": "9D5UIo3uEZ1r",
        "outputId": "f1c20dc3-51c2-4928-ee61-ecf2ae819677"
      },
      "execution_count": null,
      "outputs": [
        {
          "output_type": "stream",
          "name": "stdout",
          "text": [
            "120\n",
            "240\n",
            "100\n"
          ]
        }
      ]
    },
    {
      "cell_type": "code",
      "source": [
        "mat = [\n",
        "[120, 30, 50, 10],\n",
        "[120, 200, 240, 20],\n",
        "[100, 50, 60, 5]\n",
        "]\n",
        "sm = 0\n",
        "rows=len(mat)\n",
        "cols=len(mat[0])\n",
        "\n",
        "for col in range(cols):\n",
        "  for row in range(rows):\n",
        "    sm = sm + mat[row][col]\n",
        "  print(sm)\n",
        "  sm = 0"
      ],
      "metadata": {
        "colab": {
          "base_uri": "https://localhost:8080/"
        },
        "id": "OwoefbcqFnvi",
        "outputId": "fa6f42d9-0af6-4bc6-905d-4a3090d2b3a6"
      },
      "execution_count": null,
      "outputs": [
        {
          "output_type": "stream",
          "name": "stdout",
          "text": [
            "340\n",
            "280\n",
            "350\n",
            "35\n"
          ]
        }
      ]
    },
    {
      "cell_type": "code",
      "source": [
        "mat = [\n",
        "[120, 30, 50, 10],\n",
        "[120, 200, 240, 20],\n",
        "[100, 50, 60, 5]\n",
        "]\n",
        "sm = 0\n",
        "rows=len(mat)\n",
        "cols=len(mat[0])\n",
        "ls = []\n",
        "\n",
        "for col in range(cols):\n",
        "  for row in range(rows):\n",
        "    ls.append(mat[row][col])\n",
        "  print(max(ls))\n",
        "  ls = []"
      ],
      "metadata": {
        "id": "3-jVowXHGnaF",
        "outputId": "478934b8-cec6-4012-d80b-94cc9311958e",
        "colab": {
          "base_uri": "https://localhost:8080/"
        }
      },
      "execution_count": null,
      "outputs": [
        {
          "output_type": "stream",
          "name": "stdout",
          "text": [
            "120\n",
            "200\n",
            "240\n",
            "20\n"
          ]
        }
      ]
    }
  ]
}