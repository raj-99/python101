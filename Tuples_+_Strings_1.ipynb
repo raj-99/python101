{
  "nbformat": 4,
  "nbformat_minor": 0,
  "metadata": {
    "colab": {
      "provenance": [],
      "authorship_tag": "ABX9TyOhgXujt1KR4ozUoijNZV/H",
      "include_colab_link": true
    },
    "kernelspec": {
      "name": "python3",
      "display_name": "Python 3"
    },
    "language_info": {
      "name": "python"
    }
  },
  "cells": [
    {
      "cell_type": "markdown",
      "metadata": {
        "id": "view-in-github",
        "colab_type": "text"
      },
      "source": [
        "<a href=\"https://colab.research.google.com/github/raj-99/python101/blob/main/Tuples_%2B_Strings_1.ipynb\" target=\"_parent\"><img src=\"https://colab.research.google.com/assets/colab-badge.svg\" alt=\"Open In Colab\"/></a>"
      ]
    },
    {
      "cell_type": "code",
      "execution_count": null,
      "metadata": {
        "colab": {
          "base_uri": "https://localhost:8080/"
        },
        "id": "L7V-gOPYOd1F",
        "outputId": "b0d5eee5-608b-48d5-f9fb-6728a86770e2"
      },
      "outputs": [
        {
          "output_type": "stream",
          "name": "stdout",
          "text": [
            "132232791834896\n",
            "132232791834896\n"
          ]
        }
      ],
      "source": [
        "i = 2\n",
        "print(id(i))\n",
        "j = 2\n",
        "print(id(j))"
      ]
    },
    {
      "cell_type": "code",
      "source": [
        "country = 'India'\n",
        "#print(country.split())\n",
        "for char in range(len(country)):\n",
        "  print(country[char])"
      ],
      "metadata": {
        "colab": {
          "base_uri": "https://localhost:8080/"
        },
        "id": "-gn_ZszjhWKa",
        "outputId": "aad9cccd-c1af-4ea5-a127-2ec5144feec6"
      },
      "execution_count": null,
      "outputs": [
        {
          "output_type": "stream",
          "name": "stdout",
          "text": [
            "I\n",
            "n\n",
            "d\n",
            "i\n",
            "a\n"
          ]
        }
      ]
    },
    {
      "cell_type": "code",
      "source": [
        "country = 'India'\n",
        "print(list(country))"
      ],
      "metadata": {
        "colab": {
          "base_uri": "https://localhost:8080/"
        },
        "id": "pxcMv6mgijAp",
        "outputId": "634f74cb-014e-445b-f739-1bf1cbca3db3"
      },
      "execution_count": null,
      "outputs": [
        {
          "output_type": "stream",
          "name": "stdout",
          "text": [
            "['I', 'n', 'd', 'i', 'a']\n"
          ]
        }
      ]
    },
    {
      "cell_type": "code",
      "source": [
        "def isPalindrome(word):\n",
        "  wordls = list(word)\n",
        "  isPalindr = True\n",
        "  for i in range(len(wordls)//2):\n",
        "    if wordls[i] == wordls[-i]:\n",
        "      pass\n",
        "    else:\n",
        "      isPalindr = False\n",
        "      break\n",
        "  return isPalindr\n",
        "\n",
        "print(isPalindrome(\"Dadd\"))"
      ],
      "metadata": {
        "colab": {
          "base_uri": "https://localhost:8080/"
        },
        "id": "NVZNlp76jfh1",
        "outputId": "49968679-0c7b-4406-e192-075a025e8889"
      },
      "execution_count": null,
      "outputs": [
        {
          "output_type": "stream",
          "name": "stdout",
          "text": [
            "False\n"
          ]
        }
      ]
    },
    {
      "cell_type": "code",
      "source": [
        "# Palindrome\n",
        "\n",
        "# A string which reads the same from front and back\n",
        "# mam, mom, dad, bob, racecar, nitin, malayalam\n",
        "\n",
        "def isPalindrome(word) :\n",
        "  if word == word[::-1] :\n",
        "    return True\n",
        "  else :\n",
        "    return False\n",
        "\n",
        "print(isPalindrome(\"dad\"))\n",
        "print(isPalindrome(\"daddy\"))"
      ],
      "metadata": {
        "colab": {
          "base_uri": "https://localhost:8080/"
        },
        "id": "ghfZ8LuDkk2S",
        "outputId": "d523ed7e-ffa5-49f5-8d5a-752793419eba"
      },
      "execution_count": null,
      "outputs": [
        {
          "output_type": "stream",
          "name": "stdout",
          "text": [
            "True\n",
            "False\n"
          ]
        }
      ]
    },
    {
      "cell_type": "code",
      "source": [
        "# Aarnav's Questions\n",
        "\n",
        "# Given 2 strings as input\n",
        "# 1st string is your alien alphabets\n",
        "# 2nd string is a word\n",
        "# Check is 2nd string can be created using words from the alien alphabets\n",
        "\n",
        "# Example 1\n",
        "# \"abcde\"\n",
        "# \"abbad\"\n",
        "# True\n",
        "\n",
        "# Example 2\n",
        "# \"abcde\"\n",
        "# \"abbash\"\n",
        "# False\n",
        "\n",
        "def isFormable(word, charSet):\n",
        "  flag = True\n",
        "  for letter in word:\n",
        "    if letter in charSet:\n",
        "      pass\n",
        "    else:\n",
        "      flag = False\n",
        "      break\n",
        "  return flag\n",
        "\n",
        "print(isFormable('abbad','abcde'))\n",
        "print(isFormable('abbash','abcde'))"
      ],
      "metadata": {
        "colab": {
          "base_uri": "https://localhost:8080/"
        },
        "id": "csGmQWEdkvYx",
        "outputId": "ab4acae9-09f1-4b9f-acad-67df1642ed2c"
      },
      "execution_count": null,
      "outputs": [
        {
          "output_type": "stream",
          "name": "stdout",
          "text": [
            "True\n",
            "False\n"
          ]
        }
      ]
    }
  ]
}