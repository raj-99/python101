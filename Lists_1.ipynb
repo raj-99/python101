{
  "nbformat": 4,
  "nbformat_minor": 0,
  "metadata": {
    "colab": {
      "provenance": [],
      "authorship_tag": "ABX9TyP+poW4yQTs4zoGTcHHQHK1",
      "include_colab_link": true
    },
    "kernelspec": {
      "name": "python3",
      "display_name": "Python 3"
    },
    "language_info": {
      "name": "python"
    }
  },
  "cells": [
    {
      "cell_type": "markdown",
      "metadata": {
        "id": "view-in-github",
        "colab_type": "text"
      },
      "source": [
        "<a href=\"https://colab.research.google.com/github/raj-99/python101/blob/main/Lists_1.ipynb\" target=\"_parent\"><img src=\"https://colab.research.google.com/assets/colab-badge.svg\" alt=\"Open In Colab\"/></a>"
      ]
    },
    {
      "cell_type": "code",
      "execution_count": null,
      "metadata": {
        "colab": {
          "base_uri": "https://localhost:8080/"
        },
        "id": "1r_CVthc5s9k",
        "outputId": "14730fe5-1fdb-458b-d828-5f7a6995afaa"
      },
      "outputs": [
        {
          "output_type": "stream",
          "name": "stdout",
          "text": [
            "680\n"
          ]
        }
      ],
      "source": [
        "# Given runs scored, print total.\n",
        "\n",
        "runs = [100, 150, 20, 80, 200, 10, 120]\n",
        "print(sum(runs))"
      ]
    },
    {
      "cell_type": "code",
      "source": [
        "# Count 99\n",
        "runs = [100, 150, 20, 99, 200, 99, 120, 99]\n",
        "\n",
        "count = 0\n",
        "\n",
        "for run in runs:\n",
        "  if run == 99:\n",
        "    count = count + 1\n",
        "\n",
        "print(count)"
      ],
      "metadata": {
        "colab": {
          "base_uri": "https://localhost:8080/"
        },
        "id": "34pAkDL4_LJJ",
        "outputId": "cdca73ba-e055-410e-96c3-9d67c4c2ad47"
      },
      "execution_count": null,
      "outputs": [
        {
          "output_type": "stream",
          "name": "stdout",
          "text": [
            "3\n"
          ]
        }
      ]
    },
    {
      "cell_type": "code",
      "source": [
        "# Students who failed\n",
        "\n",
        "marksList = list(map(int, input().split()))\n",
        "\n",
        "count = 0\n",
        "\n",
        "for marks in marksList:\n",
        "  if marks <= 30:\n",
        "    count = count + 1\n",
        "\n",
        "print(count)"
      ],
      "metadata": {
        "colab": {
          "base_uri": "https://localhost:8080/"
        },
        "id": "5yaIxmibAV-o",
        "outputId": "df2a7111-6226-448f-c48c-9dfb6160b501"
      },
      "execution_count": null,
      "outputs": [
        {
          "output_type": "stream",
          "name": "stdout",
          "text": [
            "30 40 50 60 70 80 90 30 21 23 10\n",
            "5\n"
          ]
        }
      ]
    },
    {
      "cell_type": "code",
      "source": [
        "# Create a list of squares of integers 1 to N\n",
        "\n",
        "n = int(input())\n",
        "\n",
        "squaresList = [i*i for i in range(1,n+1)]\n",
        "\n",
        "print(squaresList)"
      ],
      "metadata": {
        "colab": {
          "base_uri": "https://localhost:8080/"
        },
        "id": "6jBJ8yHMCMhR",
        "outputId": "61d79070-a720-4fb8-960b-cb0768780418"
      },
      "execution_count": null,
      "outputs": [
        {
          "output_type": "stream",
          "name": "stdout",
          "text": [
            "12\n",
            "[1, 4, 9, 16, 25, 36, 49, 64, 81, 100, 121, 144]\n"
          ]
        }
      ]
    },
    {
      "cell_type": "code",
      "source": [
        "# Has the student passed or not?\n",
        "\n",
        "marksList = list(map(int, input().split()))\n",
        "\n",
        "# hasPassed = []\n",
        "\n",
        "# for marks in marksList:\n",
        "#   if marks <= 30:\n",
        "#     hasPassed.append(False)\n",
        "#   else:\n",
        "#     hasPassed.append(True)\n",
        "\n",
        "hasPassed = [marks>30 for marks in marksList]\n",
        "\n",
        "print(hasPassed)"
      ],
      "metadata": {
        "colab": {
          "base_uri": "https://localhost:8080/"
        },
        "id": "v45FtJHODTvl",
        "outputId": "f9bef430-b4ab-4f8d-a8b4-b8df79eb543e"
      },
      "execution_count": null,
      "outputs": [
        {
          "output_type": "stream",
          "name": "stdout",
          "text": [
            "5 10 15 20 25 30 35 40 45 50 55 60\n",
            "[False, False, False, False, False, False, True, True, True, True, True, True]\n"
          ]
        }
      ]
    },
    {
      "cell_type": "code",
      "source": [],
      "metadata": {
        "id": "9hB9NQSKDWp8"
      },
      "execution_count": null,
      "outputs": []
    }
  ]
}