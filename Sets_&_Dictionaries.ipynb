{
  "nbformat": 4,
  "nbformat_minor": 0,
  "metadata": {
    "colab": {
      "provenance": [],
      "authorship_tag": "ABX9TyNA4EpMZ7krZGABzepSzqlh",
      "include_colab_link": true
    },
    "kernelspec": {
      "name": "python3",
      "display_name": "Python 3"
    },
    "language_info": {
      "name": "python"
    }
  },
  "cells": [
    {
      "cell_type": "markdown",
      "metadata": {
        "id": "view-in-github",
        "colab_type": "text"
      },
      "source": [
        "<a href=\"https://colab.research.google.com/github/raj-99/python101/blob/main/Sets_%26_Dictionaries.ipynb\" target=\"_parent\"><img src=\"https://colab.research.google.com/assets/colab-badge.svg\" alt=\"Open In Colab\"/></a>"
      ]
    },
    {
      "cell_type": "markdown",
      "source": [
        "Functionalities"
      ],
      "metadata": {
        "id": "Wh4POn4ggRIt"
      }
    },
    {
      "cell_type": "code",
      "execution_count": 1,
      "metadata": {
        "id": "OHSHebVVaHbX"
      },
      "outputs": [],
      "source": [
        "# Scaler Hotel\n",
        "\n",
        "register = {\n",
        "  'A': 100,\n",
        "  'D': 205,\n",
        "  'G': 401\n",
        "}"
      ]
    },
    {
      "cell_type": "code",
      "source": [
        "# get\n",
        "\n",
        "# Method 1\n",
        "# print(register['A'])\n",
        "# print(register['B'])\n",
        "\n",
        "# Method 2\n",
        "print(register.get('A'))\n",
        "print(register.get('B'))\n",
        "\n",
        "print(register.get('B', 'Guest not in hotel'))"
      ],
      "metadata": {
        "colab": {
          "base_uri": "https://localhost:8080/"
        },
        "id": "m_RoVXFrgT80",
        "outputId": "8a3a9eeb-9f75-4a10-b859-d048a5fbec1a"
      },
      "execution_count": 2,
      "outputs": [
        {
          "output_type": "stream",
          "name": "stdout",
          "text": [
            "100\n",
            "None\n",
            "Guest not in hotel\n"
          ]
        }
      ]
    },
    {
      "cell_type": "code",
      "source": [
        "#add\n",
        "\n",
        "register['B'] = 300\n",
        "\n",
        "print(register)"
      ],
      "metadata": {
        "colab": {
          "base_uri": "https://localhost:8080/"
        },
        "id": "wORKGddqg-Ob",
        "outputId": "c9681e61-532f-493d-f678-d21a4fa69215"
      },
      "execution_count": 3,
      "outputs": [
        {
          "output_type": "stream",
          "name": "stdout",
          "text": [
            "{'A': 100, 'D': 205, 'G': 401, 'B': 300}\n"
          ]
        }
      ]
    },
    {
      "cell_type": "code",
      "source": [
        "#update\n",
        "\n",
        "register['B'] = 305\n",
        "print(register)"
      ],
      "metadata": {
        "colab": {
          "base_uri": "https://localhost:8080/"
        },
        "id": "KCzCILHTgk6w",
        "outputId": "c8c8c305-8316-419a-8d25-2d8479b74c98"
      },
      "execution_count": 4,
      "outputs": [
        {
          "output_type": "stream",
          "name": "stdout",
          "text": [
            "{'A': 100, 'D': 205, 'G': 401, 'B': 305}\n"
          ]
        }
      ]
    },
    {
      "cell_type": "code",
      "source": [
        "# remove\n",
        "\n",
        "register = {\n",
        "    'A': 100,\n",
        "    'D': 205,\n",
        "    'G': 401,\n",
        "    'B': 305\n",
        "}\n",
        "\n",
        "room = register.pop('A')\n",
        "print(register)"
      ],
      "metadata": {
        "colab": {
          "base_uri": "https://localhost:8080/"
        },
        "id": "LhqrTsqWhiC6",
        "outputId": "03dd146d-fedd-4c0c-ef5b-769ee2813958"
      },
      "execution_count": 5,
      "outputs": [
        {
          "output_type": "stream",
          "name": "stdout",
          "text": [
            "{'D': 205, 'G': 401, 'B': 305}\n"
          ]
        }
      ]
    },
    {
      "cell_type": "code",
      "source": [
        "# length\n",
        "\n",
        "print(len(register))"
      ],
      "metadata": {
        "colab": {
          "base_uri": "https://localhost:8080/"
        },
        "id": "kn7La32phojs",
        "outputId": "12956bd2-2b3b-4ecf-d3d4-8e3043f02722"
      },
      "execution_count": 6,
      "outputs": [
        {
          "output_type": "stream",
          "name": "stdout",
          "text": [
            "3\n"
          ]
        }
      ]
    },
    {
      "cell_type": "code",
      "source": [
        "# dictionaries are heterogeneous\n",
        "\n",
        "\n",
        "d = {\n",
        "    1: \"Hello\",\n",
        "    True: [None, 2.3],\n",
        "    (1, 2, 3): {'a': 1}\n",
        "}\n",
        "print(d)"
      ],
      "metadata": {
        "colab": {
          "base_uri": "https://localhost:8080/"
        },
        "id": "na9Oka3Uhtn7",
        "outputId": "84838ae1-47f5-4964-9505-fab16e0530a8"
      },
      "execution_count": 7,
      "outputs": [
        {
          "output_type": "stream",
          "name": "stdout",
          "text": [
            "{1: [None, 2.3], (1, 2, 3): {'a': 1}}\n"
          ]
        }
      ]
    },
    {
      "cell_type": "code",
      "source": [
        "# Iterating a dictionary\n",
        "\n",
        "nicknames = {\n",
        "  'Madhuri': 'Sweety',\n",
        "  'Vinoth': 'Appu',\n",
        "  'Shubham': 'Zoo Zoo',\n",
        "  'Kusum': 'Ku Ku',\n",
        "  'Manish': 'Monu'\n",
        "}"
      ],
      "metadata": {
        "id": "9d5M9JTpif_1"
      },
      "execution_count": 8,
      "outputs": []
    },
    {
      "cell_type": "code",
      "source": [
        "# Using keys\n",
        "\n",
        "# print(nicknames.keys())\n",
        "\n",
        "for key in nicknames.keys() :\n",
        "  print(key, nicknames.get(key), sep='->')"
      ],
      "metadata": {
        "colab": {
          "base_uri": "https://localhost:8080/"
        },
        "id": "1R461CSBihyt",
        "outputId": "32f9668c-26b9-41af-9aba-69e71a10a89f"
      },
      "execution_count": 9,
      "outputs": [
        {
          "output_type": "stream",
          "name": "stdout",
          "text": [
            "Madhuri->Sweety\n",
            "Vinoth->Appu\n",
            "Shubham->Zoo Zoo\n",
            "Kusum->Ku Ku\n",
            "Manish->Monu\n"
          ]
        }
      ]
    },
    {
      "cell_type": "code",
      "source": [
        "# Using values\n",
        "\n",
        "print(nicknames.values())\n",
        "\n",
        "for value in nicknames.values() :\n",
        "  print(value)"
      ],
      "metadata": {
        "colab": {
          "base_uri": "https://localhost:8080/"
        },
        "id": "Hlfa1-VRip3q",
        "outputId": "569ee901-7adf-4606-a4dc-15ff6ebf3fce"
      },
      "execution_count": 10,
      "outputs": [
        {
          "output_type": "stream",
          "name": "stdout",
          "text": [
            "dict_values(['Sweety', 'Appu', 'Zoo Zoo', 'Ku Ku', 'Monu'])\n",
            "Sweety\n",
            "Appu\n",
            "Zoo Zoo\n",
            "Ku Ku\n",
            "Monu\n"
          ]
        }
      ]
    },
    {
      "cell_type": "code",
      "source": [
        "# Using key-value pairs\n",
        "\n",
        "print(nicknames.items())\n",
        "\n",
        "for k, v in nicknames.items() :\n",
        "  print(k, v, sep=' -> ')"
      ],
      "metadata": {
        "colab": {
          "base_uri": "https://localhost:8080/"
        },
        "id": "73Ja7kROi821",
        "outputId": "0253ce36-6479-481c-b32c-bb11ed268ae6"
      },
      "execution_count": 11,
      "outputs": [
        {
          "output_type": "stream",
          "name": "stdout",
          "text": [
            "dict_items([('Madhuri', 'Sweety'), ('Vinoth', 'Appu'), ('Shubham', 'Zoo Zoo'), ('Kusum', 'Ku Ku'), ('Manish', 'Monu')])\n",
            "Madhuri -> Sweety\n",
            "Vinoth -> Appu\n",
            "Shubham -> Zoo Zoo\n",
            "Kusum -> Ku Ku\n",
            "Manish -> Monu\n"
          ]
        }
      ]
    },
    {
      "cell_type": "code",
      "source": [
        "# Frequently used way\n",
        "\n",
        "for key in nicknames :\n",
        "  print(key, nicknames[key], sep=' -> ')"
      ],
      "metadata": {
        "colab": {
          "base_uri": "https://localhost:8080/"
        },
        "id": "ggPG-daBjOUy",
        "outputId": "4be9a829-64fa-4f8c-9ed6-17d395958c14"
      },
      "execution_count": 12,
      "outputs": [
        {
          "output_type": "stream",
          "name": "stdout",
          "text": [
            "Madhuri -> Sweety\n",
            "Vinoth -> Appu\n",
            "Shubham -> Zoo Zoo\n",
            "Kusum -> Ku Ku\n",
            "Manish -> Monu\n"
          ]
        }
      ]
    },
    {
      "cell_type": "code",
      "source": [
        "# in (membership operator)\n",
        "\n",
        "print('A' in register)\n",
        "print('B' in register)"
      ],
      "metadata": {
        "colab": {
          "base_uri": "https://localhost:8080/"
        },
        "id": "8WL6QpgYjPhc",
        "outputId": "a98a728a-fade-4126-af66-2fe5c288e46d"
      },
      "execution_count": 13,
      "outputs": [
        {
          "output_type": "stream",
          "name": "stdout",
          "text": [
            "False\n",
            "True\n"
          ]
        }
      ]
    },
    {
      "cell_type": "code",
      "source": [
        "# Frequency Map\n",
        "# Given a sentence, count the numbers of times each word is used.\n",
        "\n",
        "sentence = \"My name is Aarnav My age is 27\"\n",
        "\n",
        "words = sentence.split()\n",
        "freqmap = {}\n",
        "\n",
        "for word in words:\n",
        "  if(word in freqmap):\n",
        "    freqmap[word] = freqmap[word] + 1\n",
        "  else:\n",
        "    freqmap[word] = 1\n",
        "\n",
        "print(freqmap)"
      ],
      "metadata": {
        "colab": {
          "base_uri": "https://localhost:8080/"
        },
        "id": "udzkKfPPjrO4",
        "outputId": "bf1fb634-bbfe-482a-8491-bcb678d21231"
      },
      "execution_count": 15,
      "outputs": [
        {
          "output_type": "stream",
          "name": "stdout",
          "text": [
            "{'My': 2, 'name': 1, 'is': 2, 'Aarnav': 1, 'age': 1, '27': 1}\n"
          ]
        }
      ]
    },
    {
      "cell_type": "code",
      "source": [
        "# Combine Dictionaries\n",
        "# You will get 2 dictionaries\n",
        "\n",
        "# Add them together\n",
        "# Add the common keys, add their values\n",
        "# Keep the single key, value pairs as it is\n",
        "\n",
        "d1 = {'a': 1, 'b': 2, 'c': 3}\n",
        "d2 = {'a': 1, 'b': 2, 'd': 4}\n",
        "# ans = {'a': 2, 'b': 4, 'c': 3, 'd': 4}\n",
        "\n",
        "ans = d1\n",
        "\n",
        "for key in d2:\n",
        "  if(key in ans):\n",
        "    ans[key] = ans[key] + d2[key]\n",
        "  else:\n",
        "    ans[key] = d2[key]\n",
        "  print(ans)"
      ],
      "metadata": {
        "colab": {
          "base_uri": "https://localhost:8080/"
        },
        "id": "MZge73BclcFZ",
        "outputId": "01511493-9fee-4b97-e61e-07df08255b1a"
      },
      "execution_count": 16,
      "outputs": [
        {
          "output_type": "stream",
          "name": "stdout",
          "text": [
            "{'a': 2, 'b': 2, 'c': 3}\n",
            "{'a': 2, 'b': 4, 'c': 3}\n",
            "{'a': 2, 'b': 4, 'c': 3, 'd': 4}\n"
          ]
        }
      ]
    },
    {
      "cell_type": "code",
      "source": [
        "# Key and Value Types\n",
        "\n",
        "# Keys can only be immutable\n",
        "# Value can be immutable as well as mutable\n",
        "\n",
        "# d = {\n",
        "#     (1, 2): \"Hello\"\n",
        "# }\n",
        "\n",
        "d = {\n",
        "    [1, 2]: \"Hello\"\n",
        "}"
      ],
      "metadata": {
        "colab": {
          "base_uri": "https://localhost:8080/",
          "height": 231
        },
        "id": "orZBmQLnqppA",
        "outputId": "9bc8c170-7458-4dbf-d4a2-1981bdbb4092"
      },
      "execution_count": 17,
      "outputs": [
        {
          "output_type": "error",
          "ename": "TypeError",
          "evalue": "unhashable type: 'list'",
          "traceback": [
            "\u001b[0;31m---------------------------------------------------------------------------\u001b[0m",
            "\u001b[0;31mTypeError\u001b[0m                                 Traceback (most recent call last)",
            "\u001b[0;32m<ipython-input-17-3b1387e7e9a5>\u001b[0m in \u001b[0;36m<cell line: 11>\u001b[0;34m()\u001b[0m\n\u001b[1;32m      8\u001b[0m \u001b[0;31m# }\u001b[0m\u001b[0;34m\u001b[0m\u001b[0;34m\u001b[0m\u001b[0m\n\u001b[1;32m      9\u001b[0m \u001b[0;34m\u001b[0m\u001b[0m\n\u001b[0;32m---> 10\u001b[0;31m d = {\n\u001b[0m\u001b[1;32m     11\u001b[0m     \u001b[0;34m[\u001b[0m\u001b[0;36m1\u001b[0m\u001b[0;34m,\u001b[0m \u001b[0;36m2\u001b[0m\u001b[0;34m]\u001b[0m\u001b[0;34m:\u001b[0m \u001b[0;34m\"Hello\"\u001b[0m\u001b[0;34m\u001b[0m\u001b[0;34m\u001b[0m\u001b[0m\n\u001b[1;32m     12\u001b[0m }\n",
            "\u001b[0;31mTypeError\u001b[0m: unhashable type: 'list'"
          ]
        }
      ]
    },
    {
      "cell_type": "markdown",
      "source": [
        "SETS"
      ],
      "metadata": {
        "id": "zYAlnz9TqoXp"
      }
    },
    {
      "cell_type": "code",
      "source": [
        "# Properties of sets:\n",
        "\n",
        "# Sets are unordered, which means we can not use indexing.\n",
        "# Sets are iterable\n",
        "# Sets are heterogeneous, which means they can have any data type value.\n",
        "# Sets should only contain immutable data types."
      ],
      "metadata": {
        "id": "njkA_M7PryES"
      },
      "execution_count": 18,
      "outputs": []
    },
    {
      "cell_type": "code",
      "source": [
        "# Initialisation\n",
        "\n",
        "s = set()\n",
        "print(s, type(s), len(s))"
      ],
      "metadata": {
        "colab": {
          "base_uri": "https://localhost:8080/"
        },
        "id": "IQ2tRg7psLM_",
        "outputId": "600a6200-8cd6-4c6c-be61-15384704003f"
      },
      "execution_count": 19,
      "outputs": [
        {
          "output_type": "stream",
          "name": "stdout",
          "text": [
            "set() <class 'set'> 0\n"
          ]
        }
      ]
    },
    {
      "cell_type": "code",
      "source": [
        "s = {1, 2, 2, 3, 3, 4, 4, 4}\n",
        "print(s, len(s))"
      ],
      "metadata": {
        "colab": {
          "base_uri": "https://localhost:8080/"
        },
        "id": "w4JQFmGSsMzY",
        "outputId": "6d9eae58-cf20-4013-c72f-8dba73728e34"
      },
      "execution_count": 20,
      "outputs": [
        {
          "output_type": "stream",
          "name": "stdout",
          "text": [
            "{1, 2, 3, 4} 4\n"
          ]
        }
      ]
    },
    {
      "cell_type": "code",
      "source": [
        "# No indexing\n",
        "\n",
        "print(s[0])"
      ],
      "metadata": {
        "colab": {
          "base_uri": "https://localhost:8080/",
          "height": 196
        },
        "id": "nN1HWhCEsx78",
        "outputId": "bd788663-92d7-400f-90db-6d1d5e326c38"
      },
      "execution_count": 21,
      "outputs": [
        {
          "output_type": "error",
          "ename": "TypeError",
          "evalue": "'set' object is not subscriptable",
          "traceback": [
            "\u001b[0;31m---------------------------------------------------------------------------\u001b[0m",
            "\u001b[0;31mTypeError\u001b[0m                                 Traceback (most recent call last)",
            "\u001b[0;32m<ipython-input-21-0bf55e34b7ef>\u001b[0m in \u001b[0;36m<cell line: 3>\u001b[0;34m()\u001b[0m\n\u001b[1;32m      1\u001b[0m \u001b[0;31m# No indexing\u001b[0m\u001b[0;34m\u001b[0m\u001b[0;34m\u001b[0m\u001b[0m\n\u001b[1;32m      2\u001b[0m \u001b[0;34m\u001b[0m\u001b[0m\n\u001b[0;32m----> 3\u001b[0;31m \u001b[0mprint\u001b[0m\u001b[0;34m(\u001b[0m\u001b[0ms\u001b[0m\u001b[0;34m[\u001b[0m\u001b[0;36m0\u001b[0m\u001b[0;34m]\u001b[0m\u001b[0;34m)\u001b[0m\u001b[0;34m\u001b[0m\u001b[0;34m\u001b[0m\u001b[0m\n\u001b[0m",
            "\u001b[0;31mTypeError\u001b[0m: 'set' object is not subscriptable"
          ]
        }
      ]
    },
    {
      "cell_type": "markdown",
      "source": [
        "Functions"
      ],
      "metadata": {
        "id": "f9CPo-Dcs1Z9"
      }
    },
    {
      "cell_type": "code",
      "source": [
        "colors = {'red', 'black', 'blue'}"
      ],
      "metadata": {
        "id": "OQSufRNEszyr"
      },
      "execution_count": 22,
      "outputs": []
    },
    {
      "cell_type": "code",
      "source": [
        "# adding items\n",
        "\n",
        "colors.add('green')\n",
        "print(colors)\n",
        "\n",
        "colors.add('green')\n",
        "print(colors)"
      ],
      "metadata": {
        "colab": {
          "base_uri": "https://localhost:8080/"
        },
        "id": "tJwemooHs4b-",
        "outputId": "d6afa2d7-a13f-4d71-c950-f25c04b37356"
      },
      "execution_count": 23,
      "outputs": [
        {
          "output_type": "stream",
          "name": "stdout",
          "text": [
            "{'blue', 'black', 'red', 'green'}\n",
            "{'blue', 'black', 'red', 'green'}\n"
          ]
        }
      ]
    },
    {
      "cell_type": "code",
      "source": [
        "# removing items\n",
        "\n",
        "colors.remove('green')\n",
        "print(colors)"
      ],
      "metadata": {
        "colab": {
          "base_uri": "https://localhost:8080/"
        },
        "id": "Pvngke5Ws-sM",
        "outputId": "8045288e-f7e2-467b-cc79-cc840a38d113"
      },
      "execution_count": 24,
      "outputs": [
        {
          "output_type": "stream",
          "name": "stdout",
          "text": [
            "{'blue', 'black', 'red'}\n"
          ]
        }
      ]
    },
    {
      "cell_type": "code",
      "source": [
        "# length\n",
        "\n",
        "print(len(colors))"
      ],
      "metadata": {
        "colab": {
          "base_uri": "https://localhost:8080/"
        },
        "id": "x9XVqL5ntAj-",
        "outputId": "5c087ff1-0a74-4f62-8c45-7d48ef09f0e5"
      },
      "execution_count": 25,
      "outputs": [
        {
          "output_type": "stream",
          "name": "stdout",
          "text": [
            "3\n"
          ]
        }
      ]
    },
    {
      "cell_type": "code",
      "source": [
        "# iterating a set\n",
        "\n",
        "for c in colors :\n",
        "  print(c)"
      ],
      "metadata": {
        "colab": {
          "base_uri": "https://localhost:8080/"
        },
        "id": "eMbWUPtBtTfA",
        "outputId": "2e779eee-7de0-4da9-d9d9-c49e8c353267"
      },
      "execution_count": 26,
      "outputs": [
        {
          "output_type": "stream",
          "name": "stdout",
          "text": [
            "blue\n",
            "black\n",
            "red\n"
          ]
        }
      ]
    },
    {
      "cell_type": "code",
      "source": [
        "# membership operator\n",
        "\n",
        "print('black' in colors)\n",
        "print('yellow' in colors)"
      ],
      "metadata": {
        "colab": {
          "base_uri": "https://localhost:8080/"
        },
        "id": "KY7zObcXtUFH",
        "outputId": "55ff1dc1-2c58-441d-b8c8-24f479df05aa"
      },
      "execution_count": 27,
      "outputs": [
        {
          "output_type": "stream",
          "name": "stdout",
          "text": [
            "True\n",
            "False\n"
          ]
        }
      ]
    },
    {
      "cell_type": "code",
      "source": [
        "# Given a sentence, count the numbers of unique words used.\n",
        "\n",
        "sentence = \"My name is Aarnav My age is 27\"\n",
        "\n",
        "# {\"My\", \"name\", \"age\", \"is\", \"Aarnav\", \"27\"}\n",
        "st = set()\n",
        "\n",
        "words = sentence.split()\n",
        "for word in words:\n",
        "  st.add(word)\n",
        "\n",
        "print(len(st))"
      ],
      "metadata": {
        "colab": {
          "base_uri": "https://localhost:8080/"
        },
        "id": "p2OuokjntaHK",
        "outputId": "e28f3686-44ed-42a8-e04c-ac01f0d7eed3"
      },
      "execution_count": 28,
      "outputs": [
        {
          "output_type": "stream",
          "name": "stdout",
          "text": [
            "6\n"
          ]
        }
      ]
    },
    {
      "cell_type": "code",
      "source": [
        "sentence = \"My name is Aarnav My age is 27\"\n",
        "words = sentence.split()\n",
        "words = set(words)\n",
        "print(words)\n",
        "print(len(words))"
      ],
      "metadata": {
        "colab": {
          "base_uri": "https://localhost:8080/"
        },
        "id": "VKadJ8lluXGW",
        "outputId": "d942dd7e-5150-4f3c-824b-81c199c6b95a"
      },
      "execution_count": 29,
      "outputs": [
        {
          "output_type": "stream",
          "name": "stdout",
          "text": [
            "{'name', 'My', 'is', '27', 'Aarnav', 'age'}\n",
            "6\n"
          ]
        }
      ]
    },
    {
      "cell_type": "markdown",
      "source": [
        "Usefulness of Sets"
      ],
      "metadata": {
        "id": "ud6PEhxWuglo"
      }
    },
    {
      "cell_type": "code",
      "source": [
        "food_that_you_like_to_eat = {'Pizza', 'Noodles', 'Pasta'}\n",
        "food_that_are_expensive = {'Pizza', 'Croissant', 'Avocado'}"
      ],
      "metadata": {
        "id": "SuR3-uWSuigV"
      },
      "execution_count": 31,
      "outputs": []
    },
    {
      "cell_type": "code",
      "source": [
        "# Union\n",
        "# Combining and finding all the unique items in 2 sets\n",
        "\n",
        "print(food_that_you_like_to_eat.union(food_that_are_expensive))\n",
        "print(food_that_are_expensive.union(food_that_you_like_to_eat))"
      ],
      "metadata": {
        "colab": {
          "base_uri": "https://localhost:8080/"
        },
        "id": "yIm7L_Iavswp",
        "outputId": "76e8164b-3afa-40e2-8622-f23fb2cb54b7"
      },
      "execution_count": 32,
      "outputs": [
        {
          "output_type": "stream",
          "name": "stdout",
          "text": [
            "{'Avocado', 'Noodles', 'Pasta', 'Pizza', 'Croissant'}\n",
            "{'Avocado', 'Noodles', 'Pasta', 'Pizza', 'Croissant'}\n"
          ]
        }
      ]
    },
    {
      "cell_type": "code",
      "source": [
        "# Intersection\n",
        "# Find the common items among 2 sets\n",
        "\n",
        "print(food_that_you_like_to_eat.intersection(food_that_are_expensive))\n",
        "print(food_that_are_expensive.intersection(food_that_you_like_to_eat))"
      ],
      "metadata": {
        "colab": {
          "base_uri": "https://localhost:8080/"
        },
        "id": "RZ1Gu978v3uW",
        "outputId": "de0273b9-661a-4b06-bb97-770187744346"
      },
      "execution_count": 33,
      "outputs": [
        {
          "output_type": "stream",
          "name": "stdout",
          "text": [
            "{'Pizza'}\n",
            "{'Pizza'}\n"
          ]
        }
      ]
    },
    {
      "cell_type": "code",
      "source": [
        "# Difference operation\n",
        "\n",
        "# What are the items I like to eat but are not expensive?\n",
        "print(food_that_you_like_to_eat - food_that_are_expensive)\n",
        "\n",
        "# What are the items that are expensive and I don't like to eat?\n",
        "print(food_that_are_expensive - food_that_you_like_to_eat)"
      ],
      "metadata": {
        "colab": {
          "base_uri": "https://localhost:8080/"
        },
        "id": "GyZZtKfEv5W3",
        "outputId": "b89f6295-7c56-4eda-c85d-e4ad9b0b9a04"
      },
      "execution_count": 34,
      "outputs": [
        {
          "output_type": "stream",
          "name": "stdout",
          "text": [
            "{'Noodles', 'Pasta'}\n",
            "{'Avocado', 'Croissant'}\n"
          ]
        }
      ]
    },
    {
      "cell_type": "code",
      "source": [
        "# F - Friends\n",
        "# L - Love\n",
        "# A - Affair\n",
        "# M - Marriage\n",
        "# E - Enemy\n",
        "# s - Sibling\n",
        "\n",
        "# We will take a girl's and a boy's name, and\n",
        "# then we have to find the relationship between them.\n",
        "\n",
        "# aarnav\n",
        "# varsha\n",
        "\n",
        "# a, r, v\n",
        "\n",
        "w1 = set('aarnav')\n",
        "w2 = set('varsha')\n",
        "\n",
        "commonChar = w1.intersection(w2)\n",
        "print(commonChar)\n",
        "\n",
        "ls = ['F','L','A','M','E','S']\n",
        "print(ls[len(commonChar) - 1])"
      ],
      "metadata": {
        "colab": {
          "base_uri": "https://localhost:8080/"
        },
        "id": "DD2VLa_CwM_6",
        "outputId": "1bbba4bf-3d7e-4361-b311-797f45422408"
      },
      "execution_count": 39,
      "outputs": [
        {
          "output_type": "stream",
          "name": "stdout",
          "text": [
            "{'v', 'r', 'a'}\n",
            "A\n"
          ]
        }
      ]
    },
    {
      "cell_type": "code",
      "source": [
        "name1 = \"aarnav\"\n",
        "name2 = \"varsha\"\n",
        "\n",
        "common = set(name1).intersection(set(name2))\n",
        "print(common)\n",
        "\n",
        "FLAMES = \"FLAMES\"\n",
        "print(FLAMES[len(common)-1])"
      ],
      "metadata": {
        "colab": {
          "base_uri": "https://localhost:8080/"
        },
        "id": "RVWMCUse1zWR",
        "outputId": "1f35fe86-79d0-4069-f3e2-7db5fe0bde58"
      },
      "execution_count": 40,
      "outputs": [
        {
          "output_type": "stream",
          "name": "stdout",
          "text": [
            "{'v', 'r', 'a'}\n",
            "A\n"
          ]
        }
      ]
    }
  ]
}