{
  "nbformat": 4,
  "nbformat_minor": 0,
  "metadata": {
    "colab": {
      "provenance": [],
      "authorship_tag": "ABX9TyNtCFFsPxQRQqPERRxHlGIP",
      "include_colab_link": true
    },
    "kernelspec": {
      "name": "python3",
      "display_name": "Python 3"
    },
    "language_info": {
      "name": "python"
    }
  },
  "cells": [
    {
      "cell_type": "markdown",
      "metadata": {
        "id": "view-in-github",
        "colab_type": "text"
      },
      "source": [
        "<a href=\"https://colab.research.google.com/github/raj-99/python101/blob/main/Functions.ipynb\" target=\"_parent\"><img src=\"https://colab.research.google.com/assets/colab-badge.svg\" alt=\"Open In Colab\"/></a>"
      ]
    },
    {
      "cell_type": "code",
      "execution_count": null,
      "metadata": {
        "colab": {
          "base_uri": "https://localhost:8080/"
        },
        "id": "kjq3gUpmaSqD",
        "outputId": "b5693f79-942a-4672-cb1f-3f910bcb259c"
      },
      "outputs": [
        {
          "output_type": "stream",
          "name": "stdout",
          "text": [
            "Celsius:34\n",
            "93.2\n"
          ]
        }
      ],
      "source": [
        "def toFarenheit(celsius):\n",
        "  return ((celsius*9/5)+32)\n",
        "\n",
        "print(toFarenheit(int(input(\"Celsius:\"))))"
      ]
    },
    {
      "cell_type": "code",
      "source": [
        "def findTheSize(size):\n",
        "  if size <= 19:\n",
        "    return 's'\n",
        "  elif size >= 30:\n",
        "    return 'l'\n",
        "  else:\n",
        "    return 'm'\n",
        "\n",
        "print(findTheSize(int(input())))"
      ],
      "metadata": {
        "colab": {
          "base_uri": "https://localhost:8080/"
        },
        "id": "x8hnHtfgz4io",
        "outputId": "a808afe2-5452-4d90-dd6d-67ee4f127905"
      },
      "execution_count": null,
      "outputs": [
        {
          "output_type": "stream",
          "name": "stdout",
          "text": [
            "25\n",
            "m\n"
          ]
        }
      ]
    }
  ]
}