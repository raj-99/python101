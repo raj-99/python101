{
  "nbformat": 4,
  "nbformat_minor": 0,
  "metadata": {
    "colab": {
      "provenance": [],
      "authorship_tag": "ABX9TyMfreyz12SwMbs26f7EjoW6",
      "include_colab_link": true
    },
    "kernelspec": {
      "name": "python3",
      "display_name": "Python 3"
    },
    "language_info": {
      "name": "python"
    }
  },
  "cells": [
    {
      "cell_type": "markdown",
      "metadata": {
        "id": "view-in-github",
        "colab_type": "text"
      },
      "source": [
        "<a href=\"https://colab.research.google.com/github/raj-99/python101/blob/main/Lists_2.ipynb\" target=\"_parent\"><img src=\"https://colab.research.google.com/assets/colab-badge.svg\" alt=\"Open In Colab\"/></a>"
      ]
    },
    {
      "cell_type": "markdown",
      "source": [
        "**Last Occurence**"
      ],
      "metadata": {
        "id": "eyLrK2EbL7d_"
      }
    },
    {
      "cell_type": "code",
      "execution_count": 1,
      "metadata": {
        "colab": {
          "base_uri": "https://localhost:8080/"
        },
        "id": "x_cVAwg7LCIU",
        "outputId": "39483770-9d27-408e-d307-8c9a9fb7b7f9"
      },
      "outputs": [
        {
          "output_type": "stream",
          "name": "stdout",
          "text": [
            "3\n"
          ]
        }
      ],
      "source": [
        "A = [5, 2, 3, 2, 8]\n",
        "X = 2\n",
        "for i in range(-1, -(len(A)), -1):\n",
        "  if A[i] == X:\n",
        "    print(len(A) + i)\n",
        "    break"
      ]
    },
    {
      "cell_type": "code",
      "source": [
        "# Maximum Runs\n",
        "\n",
        "runs = [100, 20, 5, 0, 150, 100, 30]\n",
        "\n",
        "currMax = runs[0]\n",
        "for run in runs:\n",
        "  if run > currMax:\n",
        "    currMax = run\n",
        "\n",
        "print(currMax)\n",
        "\n"
      ],
      "metadata": {
        "colab": {
          "base_uri": "https://localhost:8080/"
        },
        "id": "LJlrxMLMN7KG",
        "outputId": "1218ee82-daae-4b8b-b490-df3bd4190d74"
      },
      "execution_count": 2,
      "outputs": [
        {
          "output_type": "stream",
          "name": "stdout",
          "text": [
            "150\n"
          ]
        }
      ]
    },
    {
      "cell_type": "code",
      "source": [
        "# Match with Minimum Runs\n",
        "runs = [100, 20, 5, 0, 150, 100, 30]\n",
        "\n",
        "currMin = 0\n",
        "for i in range(len(runs)):\n",
        "  if runs[i] < runs[currMin]:\n",
        "    currMin = i\n",
        "\n",
        "print(currMin)"
      ],
      "metadata": {
        "colab": {
          "base_uri": "https://localhost:8080/"
        },
        "id": "SalTlCcLQTRB",
        "outputId": "3a09b13d-3aa5-4576-9895-2cbd8aab4269"
      },
      "execution_count": 5,
      "outputs": [
        {
          "output_type": "stream",
          "name": "stdout",
          "text": [
            "3\n"
          ]
        }
      ]
    },
    {
      "cell_type": "code",
      "source": [
        "# Built in Functions\n",
        "runs = [100, 20, 5, 0, 150, 100, 30]\n",
        "\n",
        "print(max(runs))\n",
        "print(min(runs))\n",
        "print(sum(runs))\n",
        "print(len(runs))\n",
        "print(runs.count(100))\n",
        "print(runs.index(150))"
      ],
      "metadata": {
        "colab": {
          "base_uri": "https://localhost:8080/"
        },
        "id": "cUKCi-7CSnFR",
        "outputId": "f9586734-ddf6-4b84-fe3b-0492dc67aaf9"
      },
      "execution_count": 6,
      "outputs": [
        {
          "output_type": "stream",
          "name": "stdout",
          "text": [
            "150\n",
            "0\n",
            "405\n",
            "7\n",
            "2\n",
            "4\n"
          ]
        }
      ]
    },
    {
      "cell_type": "markdown",
      "source": [
        "**SLICING**"
      ],
      "metadata": {
        "id": "gzx0wThvaKC-"
      }
    },
    {
      "cell_type": "code",
      "source": [
        "# Max of odd indexes\n",
        "\n",
        "ls = [100, 150, 99, 199, 99, 200, 99, 120]\n",
        "slicedList = ls[1: : 2]\n",
        "print(slicedList)\n",
        "\n",
        "print(max(slicedList))\n",
        "print(max(ls[1: : 2]))"
      ],
      "metadata": {
        "colab": {
          "base_uri": "https://localhost:8080/"
        },
        "id": "ws5BTQOIZgrk",
        "outputId": "78c782d1-8e9d-400d-81fc-4f03f601087c"
      },
      "execution_count": 9,
      "outputs": [
        {
          "output_type": "stream",
          "name": "stdout",
          "text": [
            "[150, 199, 200, 120]\n",
            "200\n",
            "200\n"
          ]
        }
      ]
    },
    {
      "cell_type": "code",
      "source": [
        "# Sum of even indices\n",
        "ls = [100, 150, 99, 199, 99, 200, 99, 120]\n",
        "\n",
        "print(sum(ls[::2]))"
      ],
      "metadata": {
        "colab": {
          "base_uri": "https://localhost:8080/"
        },
        "id": "BlZdNJyxar3f",
        "outputId": "a13c7ee7-6d4e-40cd-d399-6f35b261e3c5"
      },
      "execution_count": 10,
      "outputs": [
        {
          "output_type": "stream",
          "name": "stdout",
          "text": [
            "397\n"
          ]
        }
      ]
    },
    {
      "cell_type": "code",
      "source": [
        "# Find all occurences\n",
        "ls = [100, 150, 99, 199, 99, 200, 99, 120]\n",
        "x = 99\n",
        "#print(ls.index(x))\n",
        "indexes = []\n",
        "while ls.index(x):\n",
        "  indexes.append(ls.index(x))\n",
        "  ls.pop(ls.index(x))\n",
        "\n",
        "print(indexes)"
      ],
      "metadata": {
        "colab": {
          "base_uri": "https://localhost:8080/",
          "height": 231
        },
        "id": "NfQ-JBLHcGCP",
        "outputId": "6224aba9-e9c2-44ed-ddb8-6b439b81fa17"
      },
      "execution_count": 13,
      "outputs": [
        {
          "output_type": "error",
          "ename": "ValueError",
          "evalue": "99 is not in list",
          "traceback": [
            "\u001b[0;31m---------------------------------------------------------------------------\u001b[0m",
            "\u001b[0;31mValueError\u001b[0m                                Traceback (most recent call last)",
            "\u001b[0;32m<ipython-input-13-2683d7b046bd>\u001b[0m in \u001b[0;36m<cell line: 6>\u001b[0;34m()\u001b[0m\n\u001b[1;32m      4\u001b[0m \u001b[0;31m#print(ls.index(x))\u001b[0m\u001b[0;34m\u001b[0m\u001b[0;34m\u001b[0m\u001b[0m\n\u001b[1;32m      5\u001b[0m \u001b[0mindexes\u001b[0m \u001b[0;34m=\u001b[0m \u001b[0;34m[\u001b[0m\u001b[0;34m]\u001b[0m\u001b[0;34m\u001b[0m\u001b[0;34m\u001b[0m\u001b[0m\n\u001b[0;32m----> 6\u001b[0;31m \u001b[0;32mwhile\u001b[0m \u001b[0mls\u001b[0m\u001b[0;34m.\u001b[0m\u001b[0mindex\u001b[0m\u001b[0;34m(\u001b[0m\u001b[0mx\u001b[0m\u001b[0;34m)\u001b[0m\u001b[0;34m:\u001b[0m\u001b[0;34m\u001b[0m\u001b[0;34m\u001b[0m\u001b[0m\n\u001b[0m\u001b[1;32m      7\u001b[0m   \u001b[0mindexes\u001b[0m\u001b[0;34m.\u001b[0m\u001b[0mappend\u001b[0m\u001b[0;34m(\u001b[0m\u001b[0mls\u001b[0m\u001b[0;34m.\u001b[0m\u001b[0mindex\u001b[0m\u001b[0;34m(\u001b[0m\u001b[0mx\u001b[0m\u001b[0;34m)\u001b[0m\u001b[0;34m)\u001b[0m\u001b[0;34m\u001b[0m\u001b[0;34m\u001b[0m\u001b[0m\n\u001b[1;32m      8\u001b[0m   \u001b[0mls\u001b[0m\u001b[0;34m.\u001b[0m\u001b[0mpop\u001b[0m\u001b[0;34m(\u001b[0m\u001b[0mls\u001b[0m\u001b[0;34m.\u001b[0m\u001b[0mindex\u001b[0m\u001b[0;34m(\u001b[0m\u001b[0mx\u001b[0m\u001b[0;34m)\u001b[0m\u001b[0;34m)\u001b[0m\u001b[0;34m\u001b[0m\u001b[0;34m\u001b[0m\u001b[0m\n",
            "\u001b[0;31mValueError\u001b[0m: 99 is not in list"
          ]
        }
      ]
    },
    {
      "cell_type": "code",
      "source": [
        "# Rotating the array x times\n",
        "\n",
        "ls = [100, 150, 99, 199, 99, 200, 99, 120]\n",
        "x=2\n",
        "\n",
        "print(ls[:-x:])\n",
        "print(ls[-x::1])\n",
        "print(ls[-x::1] + ls[:-x:])"
      ],
      "metadata": {
        "colab": {
          "base_uri": "https://localhost:8080/"
        },
        "id": "NyOIW9KKdbkA",
        "outputId": "1407c881-3b26-4eb0-bc68-3f812b979239"
      },
      "execution_count": 18,
      "outputs": [
        {
          "output_type": "stream",
          "name": "stdout",
          "text": [
            "[100, 150, 99, 199, 99, 200]\n",
            "[99, 120]\n",
            "[99, 120, 100, 150, 99, 199, 99, 200]\n"
          ]
        }
      ]
    },
    {
      "cell_type": "code",
      "source": [
        "# Mode of list\n",
        "# Mode  - element which occurs most frequently\n",
        "# Assume data will only have one mode\n",
        "ls = [100, 150, 99, 199, 99, 200, 99, 120]\n",
        "modeCount = 0\n",
        "mode = ls[0]\n",
        "\n",
        "for val in ls:\n",
        "  if ls.count(val) > modeCount:\n",
        "    modeCount = ls.count(val)\n",
        "    mode = val\n",
        "\n",
        "print(mode)\n",
        "print(modeCount)"
      ],
      "metadata": {
        "colab": {
          "base_uri": "https://localhost:8080/"
        },
        "id": "4QLInLBzfXSv",
        "outputId": "a3313a35-45b4-431e-f5ad-a7e5d227fb53"
      },
      "execution_count": 19,
      "outputs": [
        {
          "output_type": "stream",
          "name": "stdout",
          "text": [
            "99\n",
            "3\n"
          ]
        }
      ]
    }
  ]
}